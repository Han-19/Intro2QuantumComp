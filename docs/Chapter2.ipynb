{
 "cells": [
  {
   "cell_type": "markdown",
   "metadata": {},
   "source": [
    "# Qauntum Circuits"
   ]
  },
  {
   "cell_type": "markdown",
   "metadata": {},
   "source": [
    "## Basic Concepts"
   ]
  },
  {
   "cell_type": "markdown",
   "metadata": {},
   "source": [
    "Every Boolean function can be conceptualized as a combination of basic logic gates. Similarly, any unitary transformation on a qubit can be broken down into a series of elementary quantum gates."
   ]
  },
  {
   "cell_type": "markdown",
   "metadata": {},
   "source": [
    "### Unitary Transformation:"
   ]
  },
  {
   "cell_type": "markdown",
   "metadata": {},
   "source": [
    "The evolution of an $n$-qubit quantum system from its initial state $\\ket{Q_0}$ to its final state $\\ket{Q_f}$ is given by the action of a unitary operator on the state vector that describes the system at a particular moment in time. Mathematically, this is expressed as $\\ket{Q_0} \\rightarrow \\ket{Q_f} = U\\ket{Q_0}  $, where $U$ is a unitary transformation."
   ]
  },
  {
   "cell_type": "markdown",
   "metadata": {},
   "source": [
    "### Quantum Gates"
   ]
  },
  {
   "cell_type": "markdown",
   "metadata": {},
   "source": [
    "\n",
    "In quantum computing, unitary transformations, which operate on the state vectors of qubits, are commonly referred to as quantum logic gates or simply unitaries, particularly when dealing with a minimal number of qubits. These quantum logic gates, like their classical counterparts, serve as the building blocks for constructing quantum circuits. They facilitate the controlled manipulation of qubit states by applying specific linear, reversible transformations, ensuring the preservation of the probabilities when qubit states are observed. Notably, through the strategic sequencing and combination of these fundamental gates, a broad spectrum of more complex quantum operations and algorithms can be developed and executed. This modularity enables quantum computers to perform a wide array of computations and simulations that can tackle problems considered intractable for classical systems."
   ]
  },
  {
   "cell_type": "markdown",
   "metadata": {},
   "source": [
    "### Unitarity"
   ]
  },
  {
   "cell_type": "markdown",
   "metadata": {},
   "source": [
    "Quantum transformations must be unitary to preserve the fundamental principles of quantum mechanics. Specifically, unitary transformations ensure that the total probability remains conserved during the evolution of a quantum system. A unitary transformation ensures that the sum of these probabilities remains equal to one throughout the system's evolution, thus maintaining the normalization of the quantum state. Additionally, unitarity ensures the reversibility of quantum processes."
   ]
  },
  {
   "cell_type": "markdown",
   "metadata": {},
   "source": [
    "### Computational Basis Vectors"
   ]
  },
  {
   "cell_type": "markdown",
   "metadata": {},
   "source": [
    "In quantum computing, a single qubit's Hilbert space is a 2-dimensional vector space. This means it has two distinct dimensions or directions. Due to this, we typically represent the computational basis vectors using column vector notation, which is a standard way of detailing vectors vertically in quantum mechanics as below:"
   ]
  },
  {
   "cell_type": "markdown",
   "metadata": {},
   "source": [
    "$\n",
    "\\ket{0}=\\begin{bmatrix} 1 \\\\ 0 \\end{bmatrix}, \\ket{1}=\\begin{bmatrix} 0 \\\\ 1 \\end{bmatrix}\n",
    "$"
   ]
  },
  {
   "cell_type": "markdown",
   "metadata": {},
   "source": [
    "With this, $ \\ket{q} = \\alpha_0\\ket{0} +\\alpha_1\\ket{1} $ can be also represented as :"
   ]
  },
  {
   "cell_type": "markdown",
   "metadata": {},
   "source": [
    "$\n",
    "\\ket{q}=\\alpha_0\\begin{bmatrix} 1 \\\\ 0 \\end{bmatrix}+\\alpha_1\\begin{bmatrix} 0 \\\\ 1 \\end{bmatrix} = \\begin{bmatrix} \\alpha_0 \\\\ \\alpha_1 \\end{bmatrix}\n",
    "$"
   ]
  },
  {
   "cell_type": "markdown",
   "metadata": {},
   "source": [
    "Also gates can be written as:"
   ]
  },
  {
   "cell_type": "markdown",
   "metadata": {},
   "source": [
    "$\n",
    "U=\\begin{bmatrix} U_{00} & U_{01} \\\\ U_{10} & U_{11} \\end{bmatrix}\n",
    "$"
   ]
  },
  {
   "cell_type": "markdown",
   "metadata": {},
   "source": [
    "$U \\ket{q}$ can be shown as:"
   ]
  },
  {
   "cell_type": "markdown",
   "metadata": {},
   "source": [
    "$\n",
    "U=\\begin{bmatrix} U_{00}\\alpha_0 & U_{01}\\alpha_1 \\\\ U_{10}\\alpha_0 & U_{11}\\alpha_1 \\end{bmatrix}\n",
    "$"
   ]
  },
  {
   "cell_type": "markdown",
   "metadata": {},
   "source": [
    "Let's go through some fundamental single qubit gates:"
   ]
  },
  {
   "cell_type": "markdown",
   "metadata": {},
   "source": [
    "#### Pauli gates"
   ]
  },
  {
   "cell_type": "markdown",
   "metadata": {},
   "source": [
    "* X-gate (NOT gate) $\\newline$\n",
    "  The X-gate flips the state of a qubit, changing $\\ket{0}$ to $\\ket{1}$ and vice versa.:\n",
    "$ \\newline X = \\begin{bmatrix} 0 & 1 \\\\ 1 & 0 \\end{bmatrix} $ Applied to $\\ket{0}$ and $\\ket{1}$ ,\n",
    "$\\newline\n",
    "X\\ket{0} = \\begin{bmatrix} 0 & 1 \\\\ 1 & 0 \\end{bmatrix}\\begin{bmatrix} 1 \\\\ 0 \\end{bmatrix} = \\begin{bmatrix} 0 \\\\ 1 \\end{bmatrix} = \\ket{1}\n",
    ",\n",
    "X\\ket{1} = \\begin{bmatrix} 0 & 1 \\\\ 1 & 0 \\end{bmatrix}\\begin{bmatrix} 0 \\\\ 1 \\end{bmatrix} = \\begin{bmatrix} 1 \\\\ 0 \\end{bmatrix} = \\ket{0}\n",
    "$"
   ]
  },
  {
   "cell_type": "markdown",
   "metadata": {},
   "source": [
    "* Y-gate:$\\newline$\n",
    "    The Y-gate introduces a flip and a phase shift of $i$.\n",
    "$ \\newline Y = \\begin{bmatrix} 0 & -i \\\\ i & 0 \\end{bmatrix} $ Applied to $\\ket{0}$ and $\\ket{1}$,\n",
    "$\\newline\n",
    "Y\\ket{0} = \\begin{bmatrix} 0 & -i \\\\ i & 0 \\end{bmatrix}\\begin{bmatrix} 1 \\\\ 0 \\end{bmatrix} = \\begin{bmatrix} 0 \\\\ i \\end{bmatrix} \n",
    ",\n",
    "Y\\ket{1} = \\begin{bmatrix} 0 & -i \\\\ i & 0 \\end{bmatrix}\\begin{bmatrix} 0 \\\\ 1 \\end{bmatrix} = \\begin{bmatrix} -i \\\\ 0 \\end{bmatrix} \n",
    "$"
   ]
  },
  {
   "cell_type": "markdown",
   "metadata": {},
   "source": [
    "* Z-gate:$\\newline$\n",
    "     The Z-gate leaves the $\\ket{0}$ state unchanged and introduces a phase shift of $-1$ to the $\\ket{1}$ state.\n",
    "$ \\newline Z = \\begin{bmatrix} 1 & 0 \\\\ 0 & -1 \\end{bmatrix} $ Applied to $\\ket{0}$ and $\\ket{1}$,\n",
    "$\\newline\n",
    "Z\\ket{0} = \\begin{bmatrix} 1 & 0 \\\\ 0 & -1 \\end{bmatrix}\\begin{bmatrix} 1 \\\\ 0 \\end{bmatrix} = \\begin{bmatrix} 1 \\\\ 0 \\end{bmatrix} = \\ket{0}\n",
    ",\n",
    "Z\\ket{1} = \\begin{bmatrix} 1 & 0 \\\\ 0 & -1 \\end{bmatrix}\\begin{bmatrix} 0 \\\\ 1 \\end{bmatrix} = \\begin{bmatrix} 0 \\\\ -1 \\end{bmatrix} \n",
    "$"
   ]
  },
  {
   "cell_type": "markdown",
   "metadata": {},
   "source": [
    "##### Hadamard gate"
   ]
  },
  {
   "cell_type": "markdown",
   "metadata": {},
   "source": [
    "* H-gate: $\\newline$\n",
    "    The Hadamard gate creates superposition. It transforms the $\\ket{0}$ state to $(\\ket{0} +\\ket{1})/\\sqrt{2}$ (which is $\\ket{+}$ ) and the $\\ket{1}$ state to $(\\ket{0} -\\ket{1})/\\sqrt{2}$ (which is $\\ket{-}$ )\n",
    "$\\newline  H = \\frac{1}{\\sqrt{2}}\\begin{bmatrix} 1 & 1 \\\\ 1 & -1 \\end{bmatrix} $ Applied to $\\ket{0}$ and $\\ket{1} \\newline$ \n",
    "$ H\\ket{0} = \\frac{1}{\\sqrt{2}}\\begin{bmatrix} 1 & 1 \\\\ 1 & -1 \\end{bmatrix} \\begin{bmatrix} 1 \\\\ 0 \\end{bmatrix} = \\frac{1}{\\sqrt{2}} \\begin{bmatrix} 1\\\\ 1 \\end{bmatrix} = \\ket{+}  $,\n",
    "$ H\\ket{1} = \\frac{1}{\\sqrt{2}}\\begin{bmatrix} 1 & 1 \\\\ 1 & -1 \\end{bmatrix} \\begin{bmatrix} 0 \\\\ 1 \\end{bmatrix} = \\frac{1}{\\sqrt{2}} \\begin{bmatrix} 1\\\\ -1 \\end{bmatrix} = \\ket{-}  $"
   ]
  },
  {
   "cell_type": "markdown",
   "metadata": {},
   "source": [
    "#### Phase Gates"
   ]
  },
  {
   "cell_type": "markdown",
   "metadata": {},
   "source": [
    "* P-gate : $\\newline$\n",
    "    Applies a phase shift to the state of a qubit, altering its relative phase without changing its probability of measurement, thereby modifying the quantum state's global phase when in superposition.\n",
    "$\\newline P(\\phi)\\ket{0}=\\ket{0}, P(\\phi)\\ket{1}=e^{i\\phi}\\ket{1} \\newline$\n",
    "in matrix form\n",
    "$\\newline P(\\phi) = \\begin{bmatrix} 1 & 0 \\\\ 0 & e^{i\\phi} \\end{bmatrix} $"
   ]
  },
  {
   "cell_type": "markdown",
   "metadata": {},
   "source": [
    "* S-gate: $\\newline$\n",
    "    A special gate of P-gate. The S-gate introduces a phase shift of $i$ (which is $e^{i\\pi/2}$) to the $\\ket{1}$ state.\n",
    "$\\newline  S = \\begin{bmatrix} 1 & 0 \\\\ 0 & i \\end{bmatrix} $ Applied to $\\ket{0}$ and $\\ket{1} \\newline$ \n",
    "$ S\\ket{0} = \\begin{bmatrix} 1 & 0 \\\\ 0 & i \\end{bmatrix} \\begin{bmatrix} 1 \\\\ 0 \\end{bmatrix} = \\begin{bmatrix} 1 \\\\ 0 \\end{bmatrix} = \\ket{0} $ , $ S\\ket{1} = \\begin{bmatrix} 1 & 0 \\\\ 0 & i \\end{bmatrix} \\begin{bmatrix} 0 \\\\ 1 \\end{bmatrix} = \\begin{bmatrix} 0 \\\\ i \\end{bmatrix}$"
   ]
  },
  {
   "cell_type": "markdown",
   "metadata": {},
   "source": [
    "* T-gate: $\\newline$\n",
    "    A special gate of P-gate. The T-gate introduces a phase shift of $e^{i\\pi/4}$ to the $\\ket{1}$ state.\n",
    "$\\newline  T = \\begin{bmatrix} 1 & 0 \\\\ 0 & e^{i\\pi/4} \\end{bmatrix} $ Applied to $\\ket{0}$ and $\\ket{1} \\newline$ \n",
    "$ T\\ket{0} = \\begin{bmatrix} 1 & 0 \\\\ 0 & e^{i\\pi/4} \\end{bmatrix} \\begin{bmatrix} 1 \\\\ 0 \\end{bmatrix} = \\begin{bmatrix} 1 \\\\ 0 \\end{bmatrix} = \\ket{0} $ , $ T\\ket{1} = \\begin{bmatrix} 1 & 0 \\\\ 0 & e^{i\\pi/4} \\end{bmatrix} \\begin{bmatrix} 0 \\\\ 1 \\end{bmatrix} = \\begin{bmatrix} 0 \\\\ e^{i\\pi/4}\\end{bmatrix}$"
   ]
  },
  {
   "cell_type": "markdown",
   "metadata": {},
   "source": [
    "## Multible Single-Qubit Gates"
   ]
  },
  {
   "cell_type": "markdown",
   "metadata": {},
   "source": [
    "Multiple qubit gates in quantum computing are fundamental operations that allow us to manipulate the states of two or more qubits simultaneously. These gates enable the creation of quantum entanglement, a unique property that allows qubits to be correlated with each other in a way that classical bits cannot. Multiple qubit gates play a crucial role in building quantum algorithms, including those that outperform classical algorithms in various tasks such as factoring large numbers and searching unsorted databases.Let's start by explaining some fundamental multi-qubit quantum gates:"
   ]
  },
  {
   "cell_type": "markdown",
   "metadata": {},
   "source": [
    "### CNOT Gate (Controlled NOT Gate)"
   ]
  },
  {
   "cell_type": "markdown",
   "metadata": {},
   "source": [
    "The CNOT gate acts on two qubits. It applies a NOT gate (X gate) to the second qubit only when the first qubit is in the state $\\ket{1}$. The CNOT gate is same as CX gate (Controlled X)\n",
    "\n",
    "Matrix Representation of CNOT gate:\n",
    "\n",
    "$\n",
    "CNOT = \\begin{bmatrix} \n",
    "1 & 0 & 0 & 0 \\\\ \n",
    "0 & 1 & 0 & 0 \\\\ \n",
    "0 & 0 & 0 & 1 \\\\ \n",
    "0 & 0 & 1 & 0 \n",
    "\\end{bmatrix}\n",
    "$\n",
    "\n",
    "You can use the following Python code with Qiskit to create and visualize the quantum circuit:\n"
   ]
  },
  {
   "cell_type": "code",
   "execution_count": 4,
   "metadata": {},
   "outputs": [
    {
     "data": {
      "image/png": "[encoded data removed]",
      "text/plain": [
       "<Figure size 287.294x200.667 with 1 Axes>"
      ]
     },
     "execution_count": 4,
     "metadata": {},
     "output_type": "execute_result"
    }
   ],
   "source": [
    "# Import libraries \n",
    "from qiskit import QuantumCircuit, Aer, transpile, assemble, execute, visualization\n",
    "\n",
    "# A quantum circuit with 2 qubits\n",
    "qc = QuantumCircuit(2)\n",
    "\n",
    "# Applying a Hadamard gate on the first qubit\n",
    "qc.h(0)\n",
    "\n",
    "# Applying a CNOT gate with the first qubit as control and the second as target\n",
    "qc.cx(0, 1)\n",
    "\n",
    "# Visualize\n",
    "qc.draw('mpl')\n"
   ]
  },
  {
   "cell_type": "markdown",
   "metadata": {},
   "source": [
    "### Controlled Gates "
   ]
  },
  {
   "cell_type": "markdown",
   "metadata": {},
   "source": [
    "These gates apply a specific gate to the second qubit, depending on the state of the control qubit. Generalized matrix reprepresentation  where U is a 2 by 2 unitary gate:\n",
    "\n",
    "$\\newline\n",
    "CU = \\begin{bmatrix} \n",
    "\\begin{matrix} 1 & 0 \\\\ 0 & 1 \\end{matrix}  & \\begin{matrix} 0 & 0 \\\\ 0 & 0 \\end{matrix} \\\\ \n",
    "\\begin{matrix} 0 & 0 \\\\ 0 & 0 \\end{matrix}  & \\begin{Vmatrix} U \\end{Vmatrix}\\end{bmatrix} \n",
    "$\n",
    "\n",
    "\n",
    " Some of controlled gates,\n",
    "\n",
    "Controlled Y Gate:\n",
    "\n",
    "$\n",
    "CY = \\begin{bmatrix} \n",
    "1 & 0 & 0 & 0 \\\\ \n",
    "0 & 1 & 0 & 0 \\\\ \n",
    "0 & 0 & 0 & -i \\\\ \n",
    "0 & 0 & i & 0 \n",
    "\\end{bmatrix} \n",
    "$\n",
    "\n",
    "Controlled Z Gate:\n",
    "\n",
    "$\n",
    "CZ = \\begin{bmatrix} \n",
    "1 & 0 & 0 & 0 \\\\ \n",
    "0 & 1 & 0 & 0 \\\\ \n",
    "0 & 0 & 1 & 0 \\\\ \n",
    "0 & 0 & 0 & -1 \n",
    "\\end{bmatrix} \n",
    "$\n",
    "\n",
    "Controlled S Gate:\n",
    "\n",
    "$\n",
    "CS = \\begin{bmatrix} \n",
    "1 & 0 & 0 & 0 \\\\ \n",
    "0 & 1 & 0 & 0 \\\\ \n",
    "0 & 0 & 1 & 0 \\\\ \n",
    "0 & 0 & 0 & i \n",
    "\\end{bmatrix}\n",
    "$\n",
    "\n",
    "Controlled T Gate:\n",
    "\n",
    "$\n",
    "CT = \\begin{bmatrix} \n",
    "1 & 0 & 0 & 0 \\\\ \n",
    "0 & 1 & 0 & 0 \\\\ \n",
    "0 & 0 & 1 & 0 \\\\ \n",
    "0 & 0 & 0 & e^{i\\pi/4} \n",
    "\\end{bmatrix} \n",
    "$\n",
    "\n",
    "Python code implementation of Controlled multiple gates,"
   ]
  },
  {
   "cell_type": "code",
   "execution_count": 21,
   "metadata": {},
   "outputs": [
    {
     "data": {
      "image/png": "[encoded data removed]",
      "text/plain": [
       "<Figure size 454.719x367.889 with 1 Axes>"
      ]
     },
     "execution_count": 21,
     "metadata": {},
     "output_type": "execute_result"
    }
   ],
   "source": [
    "qc = QuantumCircuit(4)\n",
    "\n",
    "# Applying a Hadamard gate on the first qubit\n",
    "qc.h(0)\n",
    "\n",
    "# Applying a CX gate (same as CNOT)\n",
    "qc.cx(0, 1)\n",
    "\n",
    "# Applying a CY gate\n",
    "qc.cy(1, 2)\n",
    "\n",
    "# Applying a CZ gate \n",
    "qc.cz(2,3)\n",
    "# Visualize\n",
    "qc.draw('mpl')"
   ]
  },
  {
   "cell_type": "markdown",
   "metadata": {},
   "source": [
    "#### CCNOT Gate (Toffoli gate)"
   ]
  },
  {
   "cell_type": "markdown",
   "metadata": {},
   "source": [
    "The CCNOT gate, also known as the Toffoli gate, is a three-qubit gate. It applies a NOT operation to a target qubit, conditional on the state of two control qubits. It applies a NOT (X) operation on the target qubit if the two control qubits are both in the state $\\ket{1}$.\n",
    "\n",
    "Matrix representation of CCNOT Gate:\n",
    "\n",
    "$\\text{CCNOT} = \\begin{bmatrix}\n",
    "1 & 0 & 0 & 0 & 0 & 0 & 0 & 0 \\\\\n",
    "0 & 1 & 0 & 0 & 0 & 0 & 0 & 0 \\\\\n",
    "0 & 0 & 1 & 0 & 0 & 0 & 0 & 0 \\\\\n",
    "0 & 0 & 0 & 1 & 0 & 0 & 0 & 0 \\\\\n",
    "0 & 0 & 0 & 0 & 1 & 0 & 0 & 0 \\\\\n",
    "0 & 0 & 0 & 0 & 0 & 1 & 0 & 0 \\\\\n",
    "0 & 0 & 0 & 0 & 0 & 0 & 0 & 1 \\\\\n",
    "0 & 0 & 0 & 0 & 0 & 0 & 1 & 0\n",
    "\\end{bmatrix} $\n",
    "\n",
    "Code implementation:"
   ]
  },
  {
   "cell_type": "code",
   "execution_count": 22,
   "metadata": {},
   "outputs": [
    {
     "data": {
      "image/png": "[encoded data removed]",
      "text/plain": [
       "<Figure size 287.496x284.278 with 1 Axes>"
      ]
     },
     "execution_count": 22,
     "metadata": {},
     "output_type": "execute_result"
    }
   ],
   "source": [
    "qc = QuantumCircuit(3)\n",
    "\n",
    "# Applying a Hadamard gate on the first and second qubit\n",
    "qc.h(0)\n",
    "qc.h(1)\n",
    "\n",
    "# Applying a CX gate (same as CNOT)\n",
    "qc.ccx(0, 1,2)\n",
    "\n",
    "# Visualize\n",
    "qc.draw('mpl')"
   ]
  },
  {
   "cell_type": "markdown",
   "metadata": {},
   "source": [
    "### SWAP Gate"
   ]
  },
  {
   "cell_type": "markdown",
   "metadata": {},
   "source": [
    "The SWAP gate acts on two qubits and swaps their states.\n",
    "Matrix Representation: \n",
    "\n",
    "$\n",
    "SWAP = \\begin{bmatrix} \n",
    "1 & 0 & 0 & 0 \\\\ \n",
    "0 & 0 & 1 & 0 \\\\ \n",
    "0 & 1 & 0 & 0 \\\\ \n",
    "0 & 0 & 0 & 1 \n",
    "\\end{bmatrix}\n",
    "$\n"
   ]
  },
  {
   "cell_type": "markdown",
   "metadata": {},
   "source": [
    "Controlled SWAP (Fredkin) Gate:\n",
    "A controlled SWAP gate (also known as the Fredkin gate) is a three-qubit gate, whereby the state of the first qubit acts as a control for the SWAP operation between the second and third qubits. Matrix Representation:\n",
    "\n",
    "$\n",
    "CSWAP = \n",
    "\\begin{bmatrix} \n",
    "1 & 0 & 0 & 0 & 0 & 0 & 0 & 0\\\\ \n",
    "0 & 1 & 0 & 0 & 0 & 0 & 0 & 0\\\\ \n",
    "0 & 0 & 1 & 0 & 0 & 0 & 0 & 0\\\\ \n",
    "0 & 0 & 0 & 1 & 0 & 0 & 0 & 0\\\\ \n",
    "0 & 0 & 0 & 0 & 1 & 0 & 0 & 0\\\\ \n",
    "0 & 0 & 0 & 0 & 0 & 0 & 1 & 0\\\\ \n",
    "0 & 0 & 0 & 0 & 0 & 1 & 0 & 0\\\\ \n",
    "0 & 0 & 0 & 0 & 0 & 0 & 0 & 1 \n",
    "\\end{bmatrix}\n",
    "$\n",
    "\n",
    "\n",
    "And python implementation of SWAP and CSWAP Gates:"
   ]
  },
  {
   "cell_type": "code",
   "execution_count": 24,
   "metadata": {},
   "outputs": [
    {
     "data": {
      "image/png": "[encoded data removed]",
      "text/plain": [
       "<Figure size 287.496x284.278 with 1 Axes>"
      ]
     },
     "execution_count": 24,
     "metadata": {},
     "output_type": "execute_result"
    }
   ],
   "source": [
    "\n",
    "# Initializing a quantum circuit with 3 qubits\n",
    "qc = QuantumCircuit(3)\n",
    "\n",
    "# Applying SWAP Gate between qubit 1 and qubit 2\n",
    "qc.swap(0, 1)\n",
    "\n",
    "# Applying Controlled-SWAP (Fredkin) Gate\n",
    "qc.cswap(0, 1, 2)\n",
    "\n",
    "# Drawing the Quantum Circuit\n",
    "qc.draw('mpl')"
   ]
  },
  {
   "cell_type": "markdown",
   "metadata": {},
   "source": [
    "## Measurement"
   ]
  },
  {
   "cell_type": "markdown",
   "metadata": {},
   "source": [
    "In quantum computing, measurement is a fundamental concept that allows us to extract information from a quantum system, typically a quantum bit or qubit. Unlike classical bits, qubits can exist in a superposition of both 0 and 1 states simultaneously. However, when we measure a qubit, it 'collapses' to one of the base states (0 or 1), giving us a definitive outcome.\n"
   ]
  },
  {
   "cell_type": "markdown",
   "metadata": {},
   "source": [
    "## Measurement implementation in circuit and Python"
   ]
  },
  {
   "cell_type": "markdown",
   "metadata": {},
   "source": [
    "Here is the implementation of measurement in Python Qiskit"
   ]
  },
  {
   "cell_type": "code",
   "execution_count": 12,
   "metadata": {},
   "outputs": [
    {
     "data": {
      "image/png": "[encoded data removed]",
      "text/plain": [
       "<Figure size 185.453x200.667 with 1 Axes>"
      ]
     },
     "execution_count": 12,
     "metadata": {},
     "output_type": "execute_result"
    }
   ],
   "source": [
    "from qiskit import QuantumCircuit, execute, Aer\n",
    "\n",
    "# Create a quantum circuit with 1 qubit and 1 classical bit to store the measurement\n",
    "qc = QuantumCircuit(1,1) \n",
    "\n",
    "# Assume we want to measure the qubit in the standard computational basis\n",
    "qc.measure(0, 0)  # This adds a measurement to the first qubit and stores the result in the first classical bit\n",
    "\n",
    "qc.draw('mpl')"
   ]
  },
  {
   "cell_type": "markdown",
   "metadata": {},
   "source": [
    "We can also use Aer's qasm_simulator to simulate the circuit. Here is the demonstration:"
   ]
  },
  {
   "cell_type": "code",
   "execution_count": 13,
   "metadata": {},
   "outputs": [
    {
     "data": {
      "image/png": "[encoded data removed]",
      "text/plain": [
       "<Figure size 269.064x200.667 with 1 Axes>"
      ]
     },
     "execution_count": 13,
     "metadata": {},
     "output_type": "execute_result"
    }
   ],
   "source": [
    "from qiskit import QuantumCircuit, Aer, execute\n",
    "from qiskit.visualization import plot_histogram\n",
    "\n",
    "# Create a Quantum Circuit with 1 qubit and 1 classical bit\n",
    "qc = QuantumCircuit(1, 1)\n",
    "\n",
    "# Apply a Hadamard gate to put the qubit in superposition\n",
    "qc.h(0)\n",
    "\n",
    "# Measure the qubit\n",
    "qc.measure(0, 0)\n",
    "\n",
    "# Visualize the circuit\n",
    "qc.draw('mpl')"
   ]
  },
  {
   "cell_type": "markdown",
   "metadata": {},
   "source": [
    "As in the circuit. $\\ket{0} $ state started with H-gate which turns qubit into $\\ket{+} = \\frac{\\ket{0}+\\ket{1}}{\\sqrt{2}}$. Which means both $\\ket{0}$ and $\\ket{1}$ have equal probability of being measured. We can simulate that with 10000 shots as below:"
   ]
  },
  {
   "cell_type": "code",
   "execution_count": 16,
   "metadata": {},
   "outputs": [
    {
     "data": {
      "image/png": "[encoded data removed]",
      "text/plain": [
       "<Figure size 700x500 with 1 Axes>"
      ]
     },
     "execution_count": 16,
     "metadata": {},
     "output_type": "execute_result"
    }
   ],
   "source": [
    "# Run the quantum circuit on a simulator backend\n",
    "simulator = Aer.get_backend('qasm_simulator')\n",
    "\n",
    "# Execute the circuit on the simulator\n",
    "job = execute(qc, simulator, shots=10000)\n",
    "\n",
    "# Grab the results\n",
    "result = job.result()\n",
    "\n",
    "# Get the counts (how many times each result occurred)\n",
    "counts = result.get_counts(qc)\n",
    "\n",
    "# Plot a histogram of the results\n",
    "plot_histogram(counts)"
   ]
  },
  {
   "cell_type": "markdown",
   "metadata": {},
   "source": [
    "Results came out as almost 50%-50% as we expected."
   ]
  },
  {
   "cell_type": "markdown",
   "metadata": {},
   "source": []
  }
 ],
 "metadata": {
  "kernelspec": {
   "display_name": "Python 3 (ipykernel)",
   "language": "python",
   "name": "python3"
  },
  "language_info": {
   "codemirror_mode": {
    "name": "ipython",
    "version": 3
   },
   "file_extension": ".py",
   "mimetype": "text/x-python",
   "name": "python",
   "nbconvert_exporter": "python",
   "pygments_lexer": "ipython3",
   "version": "3.11.6"
  }
 },
 "nbformat": 4,
 "nbformat_minor": 4
}
