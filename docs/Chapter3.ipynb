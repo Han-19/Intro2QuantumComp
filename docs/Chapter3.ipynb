{
 "cells": [
  {
   "cell_type": "markdown",
   "metadata": {},
   "source": [
    "## Entangled Qubits (Bell States)"
   ]
  },
  {
   "cell_type": "markdown",
   "metadata": {},
   "source": [
    "Bell States are specific quantum states that involve two qubits (quantum bits) that are maximally entangled with each other. When qubits are entangled, the state of one qubit is directly related to the state of the other, no matter the distance between them. There are four Bell States, and they are denoted as follows:\n",
    "\n",
    "1. $\\ket{\\Phi^+}$: This state is represented as $ \\frac{1}{\\sqrt{2}}( \\ket{00} + \\ket{11} ) $. If you measure one qubit and find it in state 0, the other qubit will also be found in state 0; similarly, if one is in state 1, so is the other.\n",
    "2. $\\ket{\\Phi^-}$: This state is represented as $ \\frac{1}{\\sqrt{2}}( \\ket{00} - \\ket{11} ) $, this state also shows strong correlations between the two qubits, but with a relative phase difference\n",
    "3. $\\ket{\\Psi^+}$: This state $ \\frac{1}{\\sqrt{2}}( \\ket{01} + \\ket{10} ) $, means that if one qubit is measured in state 0, the other will be in state 1, and vice versa.\n",
    "4. $\\ket{\\Psi^-}$: Similar to $\\ket{\\Psi^+} $ but with a relative phase difference, it is represented as $ \\frac{1}{\\sqrt{2}}( \\ket{01} - \\ket{10} ) $\n",
    "\n",
    "These states are essential in various quantum information processing tasks, such as quantum teleportation and superdense coding. Understanding Bell States is fundamental to grasping more complex concepts and protocols in quantum computing, as they exemplify the peculiar and non-local properties of quantum entanglement."
   ]
  },
  {
   "cell_type": "markdown",
   "metadata": {},
   "source": [
    "\n"
   ]
  },
  {
   "cell_type": "markdown",
   "metadata": {},
   "source": []
  }
 ],
 "metadata": {
  "kernelspec": {
   "display_name": "Python 3",
   "language": "python",
   "name": "python3"
  },
  "language_info": {
   "codemirror_mode": {
    "name": "ipython",
    "version": 3
   },
   "file_extension": ".py",
   "mimetype": "text/x-python",
   "name": "python",
   "nbconvert_exporter": "python",
   "pygments_lexer": "ipython3",
   "version": "3.11.5"
  }
 },
 "nbformat": 4,
 "nbformat_minor": 2
}
